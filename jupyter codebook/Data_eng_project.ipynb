{
 "cells": [
  {
   "cell_type": "markdown",
   "id": "79d126cb",
   "metadata": {},
   "source": [
    "<h2>Importing required Library</h2>"
   ]
  },
  {
   "cell_type": "code",
   "execution_count": 11,
   "id": "70bd3ec7",
   "metadata": {},
   "outputs": [],
   "source": [
    "import psycopg2     #this library for communicate with Postgres\n",
    "import pandas as pd  # this library for data manipulation"
   ]
  },
  {
   "cell_type": "markdown",
   "id": "0108fcb7",
   "metadata": {},
   "source": [
    "<h2>Create Connection to the database (Postgres)</h2>"
   ]
  },
  {
   "cell_type": "code",
   "execution_count": 49,
   "id": "e6c0842c",
   "metadata": {},
   "outputs": [],
   "source": [
    "def create_database():\n",
    "    # connectiong with default database inorder to create new database\n",
    "    conn = psycopg2.connect(\"host=127.0.0.1 dbname=postgres user=postgres password=root\")\n",
    "    conn.set_session(autocommit=True)\n",
    "    cursor = conn.cursor()\n",
    "    \n",
    "    #creating new database\n",
    "    cursor.execute(\"CREATE DATABASE information\")\n",
    "    \n",
    "    #close connection\n",
    "    conn.close()\n",
    "    \n",
    "    #connection with new database\n",
    "    conn = psycopg2.connect(\"host=127.0.0.1 dbname=information user=postgres password=root\")\n",
    "    conn.set_session(autocommit=True) # we don't need to bother with commit each transaction.\n",
    "    cursor = conn.cursor()\n",
    "    \n",
    "    return cursor, conn"
   ]
  },
  {
   "cell_type": "code",
   "execution_count": null,
   "id": "ceb94396",
   "metadata": {},
   "outputs": [],
   "source": [
    "def drop_tables(cursor,conn):\n",
    "    for query in drop_table_queries:\n",
    "        cursor.execute(query)    "
   ]
  },
  {
   "cell_type": "code",
   "execution_count": null,
   "id": "abfea8a9",
   "metadata": {},
   "outputs": [],
   "source": [
    "def create_tables(cursor,conn):\n",
    "    for query in create_table_queries:\n",
    "        cursor.execute(query) "
   ]
  },
  {
   "cell_type": "markdown",
   "id": "b9f5690f",
   "metadata": {},
   "source": [
    "<h2>Here we are Reading CSV File</h2>"
   ]
  },
  {
   "cell_type": "code",
   "execution_count": 15,
   "id": "8592e6ac",
   "metadata": {},
   "outputs": [],
   "source": [
    "countries = pd.read_csv(\"E:\\Projects\\countries.csv\")"
   ]
  },
  {
   "cell_type": "code",
   "execution_count": 21,
   "id": "10d4f0a5",
   "metadata": {},
   "outputs": [
    {
     "data": {
      "text/html": [
       "<div>\n",
       "<style scoped>\n",
       "    .dataframe tbody tr th:only-of-type {\n",
       "        vertical-align: middle;\n",
       "    }\n",
       "\n",
       "    .dataframe tbody tr th {\n",
       "        vertical-align: top;\n",
       "    }\n",
       "\n",
       "    .dataframe thead th {\n",
       "        text-align: right;\n",
       "    }\n",
       "</style>\n",
       "<table border=\"1\" class=\"dataframe\">\n",
       "  <thead>\n",
       "    <tr style=\"text-align: right;\">\n",
       "      <th></th>\n",
       "      <th>id</th>\n",
       "      <th>name</th>\n",
       "      <th>iso3</th>\n",
       "      <th>iso2</th>\n",
       "      <th>numeric_code</th>\n",
       "      <th>phone_code</th>\n",
       "      <th>capital</th>\n",
       "      <th>currency</th>\n",
       "      <th>currency_name</th>\n",
       "      <th>currency_symbol</th>\n",
       "      <th>tld</th>\n",
       "      <th>native</th>\n",
       "      <th>region</th>\n",
       "      <th>subregion</th>\n",
       "      <th>timezones</th>\n",
       "      <th>latitude</th>\n",
       "      <th>longitude</th>\n",
       "      <th>emoji</th>\n",
       "      <th>emojiU</th>\n",
       "    </tr>\n",
       "  </thead>\n",
       "  <tbody>\n",
       "    <tr>\n",
       "      <th>0</th>\n",
       "      <td>1</td>\n",
       "      <td>Afghanistan</td>\n",
       "      <td>AFG</td>\n",
       "      <td>AF</td>\n",
       "      <td>4</td>\n",
       "      <td>93</td>\n",
       "      <td>Kabul</td>\n",
       "      <td>AFN</td>\n",
       "      <td>Afghan afghani</td>\n",
       "      <td>؋</td>\n",
       "      <td>.af</td>\n",
       "      <td>افغانستان</td>\n",
       "      <td>Asia</td>\n",
       "      <td>Southern Asia</td>\n",
       "      <td>[{zoneName:'Asia\\/Kabul',gmtOffset:16200,gmtOf...</td>\n",
       "      <td>33.000000</td>\n",
       "      <td>65.0</td>\n",
       "      <td>🇦🇫</td>\n",
       "      <td>U+1F1E6 U+1F1EB</td>\n",
       "    </tr>\n",
       "    <tr>\n",
       "      <th>1</th>\n",
       "      <td>2</td>\n",
       "      <td>Aland Islands</td>\n",
       "      <td>ALA</td>\n",
       "      <td>AX</td>\n",
       "      <td>248</td>\n",
       "      <td>+358-18</td>\n",
       "      <td>Mariehamn</td>\n",
       "      <td>EUR</td>\n",
       "      <td>Euro</td>\n",
       "      <td>€</td>\n",
       "      <td>.ax</td>\n",
       "      <td>Åland</td>\n",
       "      <td>Europe</td>\n",
       "      <td>Northern Europe</td>\n",
       "      <td>[{zoneName:'Europe\\/Mariehamn',gmtOffset:7200,...</td>\n",
       "      <td>60.116667</td>\n",
       "      <td>19.9</td>\n",
       "      <td>🇦🇽</td>\n",
       "      <td>U+1F1E6 U+1F1FD</td>\n",
       "    </tr>\n",
       "    <tr>\n",
       "      <th>2</th>\n",
       "      <td>3</td>\n",
       "      <td>Albania</td>\n",
       "      <td>ALB</td>\n",
       "      <td>AL</td>\n",
       "      <td>8</td>\n",
       "      <td>355</td>\n",
       "      <td>Tirana</td>\n",
       "      <td>ALL</td>\n",
       "      <td>Albanian lek</td>\n",
       "      <td>Lek</td>\n",
       "      <td>.al</td>\n",
       "      <td>Shqipëria</td>\n",
       "      <td>Europe</td>\n",
       "      <td>Southern Europe</td>\n",
       "      <td>[{zoneName:'Europe\\/Tirane',gmtOffset:3600,gmt...</td>\n",
       "      <td>41.000000</td>\n",
       "      <td>20.0</td>\n",
       "      <td>🇦🇱</td>\n",
       "      <td>U+1F1E6 U+1F1F1</td>\n",
       "    </tr>\n",
       "    <tr>\n",
       "      <th>3</th>\n",
       "      <td>4</td>\n",
       "      <td>Algeria</td>\n",
       "      <td>DZA</td>\n",
       "      <td>DZ</td>\n",
       "      <td>12</td>\n",
       "      <td>213</td>\n",
       "      <td>Algiers</td>\n",
       "      <td>DZD</td>\n",
       "      <td>Algerian dinar</td>\n",
       "      <td>دج</td>\n",
       "      <td>.dz</td>\n",
       "      <td>الجزائر</td>\n",
       "      <td>Africa</td>\n",
       "      <td>Northern Africa</td>\n",
       "      <td>[{zoneName:'Africa\\/Algiers',gmtOffset:3600,gm...</td>\n",
       "      <td>28.000000</td>\n",
       "      <td>3.0</td>\n",
       "      <td>🇩🇿</td>\n",
       "      <td>U+1F1E9 U+1F1FF</td>\n",
       "    </tr>\n",
       "    <tr>\n",
       "      <th>4</th>\n",
       "      <td>5</td>\n",
       "      <td>American Samoa</td>\n",
       "      <td>ASM</td>\n",
       "      <td>AS</td>\n",
       "      <td>16</td>\n",
       "      <td>+1-684</td>\n",
       "      <td>Pago Pago</td>\n",
       "      <td>USD</td>\n",
       "      <td>US Dollar</td>\n",
       "      <td>$</td>\n",
       "      <td>.as</td>\n",
       "      <td>American Samoa</td>\n",
       "      <td>Oceania</td>\n",
       "      <td>Polynesia</td>\n",
       "      <td>[{zoneName:'Pacific\\/Pago_Pago',gmtOffset:-396...</td>\n",
       "      <td>-14.333333</td>\n",
       "      <td>-170.0</td>\n",
       "      <td>🇦🇸</td>\n",
       "      <td>U+1F1E6 U+1F1F8</td>\n",
       "    </tr>\n",
       "  </tbody>\n",
       "</table>\n",
       "</div>"
      ],
      "text/plain": [
       "   id            name iso3 iso2  numeric_code phone_code    capital currency  \\\n",
       "0   1     Afghanistan  AFG   AF             4         93      Kabul      AFN   \n",
       "1   2   Aland Islands  ALA   AX           248    +358-18  Mariehamn      EUR   \n",
       "2   3         Albania  ALB   AL             8        355     Tirana      ALL   \n",
       "3   4         Algeria  DZA   DZ            12        213    Algiers      DZD   \n",
       "4   5  American Samoa  ASM   AS            16     +1-684  Pago Pago      USD   \n",
       "\n",
       "    currency_name currency_symbol  tld          native   region  \\\n",
       "0  Afghan afghani               ؋  .af       افغانستان     Asia   \n",
       "1            Euro               €  .ax           Åland   Europe   \n",
       "2    Albanian lek             Lek  .al       Shqipëria   Europe   \n",
       "3  Algerian dinar              دج  .dz         الجزائر   Africa   \n",
       "4       US Dollar               $  .as  American Samoa  Oceania   \n",
       "\n",
       "         subregion                                          timezones  \\\n",
       "0    Southern Asia  [{zoneName:'Asia\\/Kabul',gmtOffset:16200,gmtOf...   \n",
       "1  Northern Europe  [{zoneName:'Europe\\/Mariehamn',gmtOffset:7200,...   \n",
       "2  Southern Europe  [{zoneName:'Europe\\/Tirane',gmtOffset:3600,gmt...   \n",
       "3  Northern Africa  [{zoneName:'Africa\\/Algiers',gmtOffset:3600,gm...   \n",
       "4        Polynesia  [{zoneName:'Pacific\\/Pago_Pago',gmtOffset:-396...   \n",
       "\n",
       "    latitude  longitude emoji           emojiU  \n",
       "0  33.000000       65.0    🇦🇫  U+1F1E6 U+1F1EB  \n",
       "1  60.116667       19.9    🇦🇽  U+1F1E6 U+1F1FD  \n",
       "2  41.000000       20.0    🇦🇱  U+1F1E6 U+1F1F1  \n",
       "3  28.000000        3.0    🇩🇿  U+1F1E9 U+1F1FF  \n",
       "4 -14.333333     -170.0    🇦🇸  U+1F1E6 U+1F1F8  "
      ]
     },
     "execution_count": 21,
     "metadata": {},
     "output_type": "execute_result"
    }
   ],
   "source": [
    "countries.head()"
   ]
  },
  {
   "cell_type": "markdown",
   "id": "bb8ad02d",
   "metadata": {},
   "source": [
    "<h2>Removing extra columns</h2>"
   ]
  },
  {
   "cell_type": "code",
   "execution_count": 25,
   "id": "73692c3e",
   "metadata": {},
   "outputs": [],
   "source": [
    "countries_clean = countries[['id', 'name', 'iso2', 'phone_code', 'capital','currency', 'currency_name', 'currency_symbol', \n",
    "                             'native','region', 'timezones', 'latitude', 'longitude']]"
   ]
  },
  {
   "cell_type": "code",
   "execution_count": 26,
   "id": "bae739f1",
   "metadata": {
    "scrolled": true
   },
   "outputs": [
    {
     "data": {
      "text/html": [
       "<div>\n",
       "<style scoped>\n",
       "    .dataframe tbody tr th:only-of-type {\n",
       "        vertical-align: middle;\n",
       "    }\n",
       "\n",
       "    .dataframe tbody tr th {\n",
       "        vertical-align: top;\n",
       "    }\n",
       "\n",
       "    .dataframe thead th {\n",
       "        text-align: right;\n",
       "    }\n",
       "</style>\n",
       "<table border=\"1\" class=\"dataframe\">\n",
       "  <thead>\n",
       "    <tr style=\"text-align: right;\">\n",
       "      <th></th>\n",
       "      <th>id</th>\n",
       "      <th>name</th>\n",
       "      <th>iso2</th>\n",
       "      <th>phone_code</th>\n",
       "      <th>capital</th>\n",
       "      <th>currency</th>\n",
       "      <th>currency_name</th>\n",
       "      <th>currency_symbol</th>\n",
       "      <th>native</th>\n",
       "      <th>region</th>\n",
       "      <th>timezones</th>\n",
       "      <th>latitude</th>\n",
       "      <th>longitude</th>\n",
       "    </tr>\n",
       "  </thead>\n",
       "  <tbody>\n",
       "    <tr>\n",
       "      <th>0</th>\n",
       "      <td>1</td>\n",
       "      <td>Afghanistan</td>\n",
       "      <td>AF</td>\n",
       "      <td>93</td>\n",
       "      <td>Kabul</td>\n",
       "      <td>AFN</td>\n",
       "      <td>Afghan afghani</td>\n",
       "      <td>؋</td>\n",
       "      <td>افغانستان</td>\n",
       "      <td>Asia</td>\n",
       "      <td>[{zoneName:'Asia\\/Kabul',gmtOffset:16200,gmtOf...</td>\n",
       "      <td>33.000000</td>\n",
       "      <td>65.0</td>\n",
       "    </tr>\n",
       "    <tr>\n",
       "      <th>1</th>\n",
       "      <td>2</td>\n",
       "      <td>Aland Islands</td>\n",
       "      <td>AX</td>\n",
       "      <td>+358-18</td>\n",
       "      <td>Mariehamn</td>\n",
       "      <td>EUR</td>\n",
       "      <td>Euro</td>\n",
       "      <td>€</td>\n",
       "      <td>Åland</td>\n",
       "      <td>Europe</td>\n",
       "      <td>[{zoneName:'Europe\\/Mariehamn',gmtOffset:7200,...</td>\n",
       "      <td>60.116667</td>\n",
       "      <td>19.9</td>\n",
       "    </tr>\n",
       "  </tbody>\n",
       "</table>\n",
       "</div>"
      ],
      "text/plain": [
       "   id           name iso2 phone_code    capital currency   currency_name  \\\n",
       "0   1    Afghanistan   AF         93      Kabul      AFN  Afghan afghani   \n",
       "1   2  Aland Islands   AX    +358-18  Mariehamn      EUR            Euro   \n",
       "\n",
       "  currency_symbol     native  region  \\\n",
       "0               ؋  افغانستان    Asia   \n",
       "1               €      Åland  Europe   \n",
       "\n",
       "                                           timezones   latitude  longitude  \n",
       "0  [{zoneName:'Asia\\/Kabul',gmtOffset:16200,gmtOf...  33.000000       65.0  \n",
       "1  [{zoneName:'Europe\\/Mariehamn',gmtOffset:7200,...  60.116667       19.9  "
      ]
     },
     "execution_count": 26,
     "metadata": {},
     "output_type": "execute_result"
    }
   ],
   "source": [
    "countries_clean.head(2) # checking for data reside in python object or not..."
   ]
  },
  {
   "cell_type": "code",
   "execution_count": 27,
   "id": "a00c3556",
   "metadata": {},
   "outputs": [],
   "source": [
    "states = pd.read_csv(\"E:\\Projects\\states.csv\")"
   ]
  },
  {
   "cell_type": "code",
   "execution_count": 28,
   "id": "e89162cb",
   "metadata": {},
   "outputs": [
    {
     "data": {
      "text/html": [
       "<div>\n",
       "<style scoped>\n",
       "    .dataframe tbody tr th:only-of-type {\n",
       "        vertical-align: middle;\n",
       "    }\n",
       "\n",
       "    .dataframe tbody tr th {\n",
       "        vertical-align: top;\n",
       "    }\n",
       "\n",
       "    .dataframe thead th {\n",
       "        text-align: right;\n",
       "    }\n",
       "</style>\n",
       "<table border=\"1\" class=\"dataframe\">\n",
       "  <thead>\n",
       "    <tr style=\"text-align: right;\">\n",
       "      <th></th>\n",
       "      <th>id</th>\n",
       "      <th>name</th>\n",
       "      <th>country_id</th>\n",
       "      <th>country_code</th>\n",
       "      <th>country_name</th>\n",
       "      <th>state_code</th>\n",
       "      <th>type</th>\n",
       "      <th>latitude</th>\n",
       "      <th>longitude</th>\n",
       "    </tr>\n",
       "  </thead>\n",
       "  <tbody>\n",
       "    <tr>\n",
       "      <th>0</th>\n",
       "      <td>3901</td>\n",
       "      <td>Badakhshan</td>\n",
       "      <td>1</td>\n",
       "      <td>AF</td>\n",
       "      <td>Afghanistan</td>\n",
       "      <td>BDS</td>\n",
       "      <td>NaN</td>\n",
       "      <td>36.734772</td>\n",
       "      <td>70.811995</td>\n",
       "    </tr>\n",
       "    <tr>\n",
       "      <th>1</th>\n",
       "      <td>3871</td>\n",
       "      <td>Badghis</td>\n",
       "      <td>1</td>\n",
       "      <td>AF</td>\n",
       "      <td>Afghanistan</td>\n",
       "      <td>BDG</td>\n",
       "      <td>NaN</td>\n",
       "      <td>35.167134</td>\n",
       "      <td>63.769538</td>\n",
       "    </tr>\n",
       "    <tr>\n",
       "      <th>2</th>\n",
       "      <td>3875</td>\n",
       "      <td>Baghlan</td>\n",
       "      <td>1</td>\n",
       "      <td>AF</td>\n",
       "      <td>Afghanistan</td>\n",
       "      <td>BGL</td>\n",
       "      <td>NaN</td>\n",
       "      <td>36.178903</td>\n",
       "      <td>68.745306</td>\n",
       "    </tr>\n",
       "    <tr>\n",
       "      <th>3</th>\n",
       "      <td>3884</td>\n",
       "      <td>Balkh</td>\n",
       "      <td>1</td>\n",
       "      <td>AF</td>\n",
       "      <td>Afghanistan</td>\n",
       "      <td>BAL</td>\n",
       "      <td>NaN</td>\n",
       "      <td>36.755060</td>\n",
       "      <td>66.897537</td>\n",
       "    </tr>\n",
       "    <tr>\n",
       "      <th>4</th>\n",
       "      <td>3872</td>\n",
       "      <td>Bamyan</td>\n",
       "      <td>1</td>\n",
       "      <td>AF</td>\n",
       "      <td>Afghanistan</td>\n",
       "      <td>BAM</td>\n",
       "      <td>NaN</td>\n",
       "      <td>34.810007</td>\n",
       "      <td>67.821210</td>\n",
       "    </tr>\n",
       "  </tbody>\n",
       "</table>\n",
       "</div>"
      ],
      "text/plain": [
       "     id        name  country_id country_code country_name state_code type  \\\n",
       "0  3901  Badakhshan           1           AF  Afghanistan        BDS  NaN   \n",
       "1  3871     Badghis           1           AF  Afghanistan        BDG  NaN   \n",
       "2  3875     Baghlan           1           AF  Afghanistan        BGL  NaN   \n",
       "3  3884       Balkh           1           AF  Afghanistan        BAL  NaN   \n",
       "4  3872      Bamyan           1           AF  Afghanistan        BAM  NaN   \n",
       "\n",
       "    latitude  longitude  \n",
       "0  36.734772  70.811995  \n",
       "1  35.167134  63.769538  \n",
       "2  36.178903  68.745306  \n",
       "3  36.755060  66.897537  \n",
       "4  34.810007  67.821210  "
      ]
     },
     "execution_count": 28,
     "metadata": {},
     "output_type": "execute_result"
    }
   ],
   "source": [
    "states.head()"
   ]
  },
  {
   "cell_type": "code",
   "execution_count": 30,
   "id": "197eacb3",
   "metadata": {},
   "outputs": [],
   "source": [
    "# Removing unneccesary columns from states object\n",
    "states_clean = states[['id', 'name', 'country_id', 'country_code', 'country_name', 'state_code',  'latitude', 'longitude']]"
   ]
  },
  {
   "cell_type": "code",
   "execution_count": 31,
   "id": "6c085bca",
   "metadata": {},
   "outputs": [
    {
     "data": {
      "text/html": [
       "<div>\n",
       "<style scoped>\n",
       "    .dataframe tbody tr th:only-of-type {\n",
       "        vertical-align: middle;\n",
       "    }\n",
       "\n",
       "    .dataframe tbody tr th {\n",
       "        vertical-align: top;\n",
       "    }\n",
       "\n",
       "    .dataframe thead th {\n",
       "        text-align: right;\n",
       "    }\n",
       "</style>\n",
       "<table border=\"1\" class=\"dataframe\">\n",
       "  <thead>\n",
       "    <tr style=\"text-align: right;\">\n",
       "      <th></th>\n",
       "      <th>id</th>\n",
       "      <th>name</th>\n",
       "      <th>country_id</th>\n",
       "      <th>country_code</th>\n",
       "      <th>country_name</th>\n",
       "      <th>state_code</th>\n",
       "      <th>latitude</th>\n",
       "      <th>longitude</th>\n",
       "    </tr>\n",
       "  </thead>\n",
       "  <tbody>\n",
       "    <tr>\n",
       "      <th>0</th>\n",
       "      <td>3901</td>\n",
       "      <td>Badakhshan</td>\n",
       "      <td>1</td>\n",
       "      <td>AF</td>\n",
       "      <td>Afghanistan</td>\n",
       "      <td>BDS</td>\n",
       "      <td>36.734772</td>\n",
       "      <td>70.811995</td>\n",
       "    </tr>\n",
       "  </tbody>\n",
       "</table>\n",
       "</div>"
      ],
      "text/plain": [
       "     id        name  country_id country_code country_name state_code  \\\n",
       "0  3901  Badakhshan           1           AF  Afghanistan        BDS   \n",
       "\n",
       "    latitude  longitude  \n",
       "0  36.734772  70.811995  "
      ]
     },
     "execution_count": 31,
     "metadata": {},
     "output_type": "execute_result"
    }
   ],
   "source": [
    "states_clean.head(1)"
   ]
  },
  {
   "cell_type": "code",
   "execution_count": 32,
   "id": "657f07ae",
   "metadata": {},
   "outputs": [],
   "source": [
    "cities = pd.read_csv(\"E:\\Projects\\cities.csv\")"
   ]
  },
  {
   "cell_type": "code",
   "execution_count": 33,
   "id": "bc08ab19",
   "metadata": {},
   "outputs": [
    {
     "data": {
      "text/html": [
       "<div>\n",
       "<style scoped>\n",
       "    .dataframe tbody tr th:only-of-type {\n",
       "        vertical-align: middle;\n",
       "    }\n",
       "\n",
       "    .dataframe tbody tr th {\n",
       "        vertical-align: top;\n",
       "    }\n",
       "\n",
       "    .dataframe thead th {\n",
       "        text-align: right;\n",
       "    }\n",
       "</style>\n",
       "<table border=\"1\" class=\"dataframe\">\n",
       "  <thead>\n",
       "    <tr style=\"text-align: right;\">\n",
       "      <th></th>\n",
       "      <th>id</th>\n",
       "      <th>name</th>\n",
       "      <th>state_id</th>\n",
       "      <th>state_code</th>\n",
       "      <th>state_name</th>\n",
       "      <th>country_id</th>\n",
       "      <th>country_code</th>\n",
       "      <th>country_name</th>\n",
       "      <th>latitude</th>\n",
       "      <th>longitude</th>\n",
       "      <th>wikiDataId</th>\n",
       "    </tr>\n",
       "  </thead>\n",
       "  <tbody>\n",
       "    <tr>\n",
       "      <th>0</th>\n",
       "      <td>52</td>\n",
       "      <td>Ashkāsham</td>\n",
       "      <td>3901</td>\n",
       "      <td>BDS</td>\n",
       "      <td>Badakhshan</td>\n",
       "      <td>1</td>\n",
       "      <td>AF</td>\n",
       "      <td>Afghanistan</td>\n",
       "      <td>36.68333</td>\n",
       "      <td>71.53333</td>\n",
       "      <td>Q4805192</td>\n",
       "    </tr>\n",
       "    <tr>\n",
       "      <th>1</th>\n",
       "      <td>68</td>\n",
       "      <td>Fayzabad</td>\n",
       "      <td>3901</td>\n",
       "      <td>BDS</td>\n",
       "      <td>Badakhshan</td>\n",
       "      <td>1</td>\n",
       "      <td>AF</td>\n",
       "      <td>Afghanistan</td>\n",
       "      <td>37.11664</td>\n",
       "      <td>70.58002</td>\n",
       "      <td>Q156558</td>\n",
       "    </tr>\n",
       "    <tr>\n",
       "      <th>2</th>\n",
       "      <td>78</td>\n",
       "      <td>Jurm</td>\n",
       "      <td>3901</td>\n",
       "      <td>BDS</td>\n",
       "      <td>Badakhshan</td>\n",
       "      <td>1</td>\n",
       "      <td>AF</td>\n",
       "      <td>Afghanistan</td>\n",
       "      <td>36.86477</td>\n",
       "      <td>70.83421</td>\n",
       "      <td>Q10308323</td>\n",
       "    </tr>\n",
       "    <tr>\n",
       "      <th>3</th>\n",
       "      <td>84</td>\n",
       "      <td>Khandūd</td>\n",
       "      <td>3901</td>\n",
       "      <td>BDS</td>\n",
       "      <td>Badakhshan</td>\n",
       "      <td>1</td>\n",
       "      <td>AF</td>\n",
       "      <td>Afghanistan</td>\n",
       "      <td>36.95127</td>\n",
       "      <td>72.31800</td>\n",
       "      <td>Q3290334</td>\n",
       "    </tr>\n",
       "    <tr>\n",
       "      <th>4</th>\n",
       "      <td>115</td>\n",
       "      <td>Rāghistān</td>\n",
       "      <td>3901</td>\n",
       "      <td>BDS</td>\n",
       "      <td>Badakhshan</td>\n",
       "      <td>1</td>\n",
       "      <td>AF</td>\n",
       "      <td>Afghanistan</td>\n",
       "      <td>37.66079</td>\n",
       "      <td>70.67346</td>\n",
       "      <td>Q2670909</td>\n",
       "    </tr>\n",
       "  </tbody>\n",
       "</table>\n",
       "</div>"
      ],
      "text/plain": [
       "    id       name  state_id state_code  state_name  country_id country_code  \\\n",
       "0   52  Ashkāsham      3901        BDS  Badakhshan           1           AF   \n",
       "1   68   Fayzabad      3901        BDS  Badakhshan           1           AF   \n",
       "2   78       Jurm      3901        BDS  Badakhshan           1           AF   \n",
       "3   84    Khandūd      3901        BDS  Badakhshan           1           AF   \n",
       "4  115  Rāghistān      3901        BDS  Badakhshan           1           AF   \n",
       "\n",
       "  country_name  latitude  longitude wikiDataId  \n",
       "0  Afghanistan  36.68333   71.53333   Q4805192  \n",
       "1  Afghanistan  37.11664   70.58002    Q156558  \n",
       "2  Afghanistan  36.86477   70.83421  Q10308323  \n",
       "3  Afghanistan  36.95127   72.31800   Q3290334  \n",
       "4  Afghanistan  37.66079   70.67346   Q2670909  "
      ]
     },
     "execution_count": 33,
     "metadata": {},
     "output_type": "execute_result"
    }
   ],
   "source": [
    "cities.head()"
   ]
  },
  {
   "cell_type": "code",
   "execution_count": 34,
   "id": "d7e3dac9",
   "metadata": {},
   "outputs": [
    {
     "data": {
      "text/plain": [
       "Index(['id', 'name', 'state_id', 'state_code', 'state_name', 'country_id',\n",
       "       'country_code', 'country_name', 'latitude', 'longitude', 'wikiDataId'],\n",
       "      dtype='object')"
      ]
     },
     "execution_count": 34,
     "metadata": {},
     "output_type": "execute_result"
    }
   ],
   "source": [
    "cities.columns"
   ]
  },
  {
   "cell_type": "code",
   "execution_count": 37,
   "id": "582e072c",
   "metadata": {},
   "outputs": [],
   "source": [
    "# Removing unneccesary columns from cities object\n",
    "cities_clean = cities[['id', 'name', 'state_id','country_id']]"
   ]
  },
  {
   "cell_type": "code",
   "execution_count": 132,
   "id": "ed4fbcae",
   "metadata": {},
   "outputs": [
    {
     "data": {
      "text/html": [
       "<div>\n",
       "<style scoped>\n",
       "    .dataframe tbody tr th:only-of-type {\n",
       "        vertical-align: middle;\n",
       "    }\n",
       "\n",
       "    .dataframe tbody tr th {\n",
       "        vertical-align: top;\n",
       "    }\n",
       "\n",
       "    .dataframe thead th {\n",
       "        text-align: right;\n",
       "    }\n",
       "</style>\n",
       "<table border=\"1\" class=\"dataframe\">\n",
       "  <thead>\n",
       "    <tr style=\"text-align: right;\">\n",
       "      <th></th>\n",
       "      <th>id</th>\n",
       "      <th>name</th>\n",
       "      <th>state_id</th>\n",
       "      <th>country_id</th>\n",
       "    </tr>\n",
       "  </thead>\n",
       "  <tbody>\n",
       "    <tr>\n",
       "      <th>0</th>\n",
       "      <td>52</td>\n",
       "      <td>Ashkāsham</td>\n",
       "      <td>3901</td>\n",
       "      <td>1</td>\n",
       "    </tr>\n",
       "    <tr>\n",
       "      <th>1</th>\n",
       "      <td>68</td>\n",
       "      <td>Fayzabad</td>\n",
       "      <td>3901</td>\n",
       "      <td>1</td>\n",
       "    </tr>\n",
       "    <tr>\n",
       "      <th>2</th>\n",
       "      <td>78</td>\n",
       "      <td>Jurm</td>\n",
       "      <td>3901</td>\n",
       "      <td>1</td>\n",
       "    </tr>\n",
       "  </tbody>\n",
       "</table>\n",
       "</div>"
      ],
      "text/plain": [
       "   id       name  state_id  country_id\n",
       "0  52  Ashkāsham      3901           1\n",
       "1  68   Fayzabad      3901           1\n",
       "2  78       Jurm      3901           1"
      ]
     },
     "execution_count": 132,
     "metadata": {},
     "output_type": "execute_result"
    }
   ],
   "source": [
    "cities_clean.head(3)"
   ]
  },
  {
   "cell_type": "markdown",
   "id": "9e1eee96",
   "metadata": {},
   "source": [
    "<h2>call the function for create database</h2>"
   ]
  },
  {
   "cell_type": "code",
   "execution_count": 50,
   "id": "5fea0e3d",
   "metadata": {},
   "outputs": [],
   "source": [
    "cursor,conn = create_database()"
   ]
  },
  {
   "cell_type": "markdown",
   "id": "ac1ece85",
   "metadata": {},
   "source": [
    "<h2>Creating new tables</h2>"
   ]
  },
  {
   "cell_type": "code",
   "execution_count": 51,
   "id": "8c9fbde8",
   "metadata": {},
   "outputs": [],
   "source": [
    "create_country_table = (\"\"\"CREATE TABLE IF NOT EXISTS countries(id int PRIMARY KEY, name VARCHAR, iso2 VARCHAR, phone_code VARCHAR,capital VARCHAR,currency VARCHAR,currency_name VARCHAR,currency_symbol VARCHAR,region VARCHAR,native VARCHAR,timezones VARCHAR,latitude VARCHAR,longitude VARCHAR)\"\"\")\n",
    "cursor.execute(create_country_table)"
   ]
  },
  {
   "cell_type": "code",
   "execution_count": 52,
   "id": "78e5723c",
   "metadata": {},
   "outputs": [],
   "source": [
    "create_state_table = (\"\"\"CREATE TABLE IF NOT EXISTS states(id INT PRIMARY KEY,country_id INT,name VARCHAR,country_code VARCHAR,country_name VARCHAR,state_code VARCHAR,latitude VARCHAR,longitude VARCHAR,\n",
    "CONSTRAINT fk_country\n",
    "FOREIGN KEY(country_id)   \n",
    "REFERENCES countries(id) ON DELETE CASCADE)\"\"\")\n",
    "cursor.execute(create_state_table)"
   ]
  },
  {
   "cell_type": "code",
   "execution_count": 2,
   "id": "1e220c55",
   "metadata": {},
   "outputs": [],
   "source": [
    "create_cities_table = (\"\"\"CREATE TABLE IF NOT EXISTS cities(id INT PRIMARY KEY,country_id INT,name VARCHAR,state_id INT,\n",
    "CONSTRAINT fk_country\n",
    "FOREIGN KEY(country_id)   \n",
    "REFERENCES countries(id) ON DELETE CASCADE,\n",
    "CONSTRAINT fk_state\n",
    "FOREIGN KEY(state_id)   \n",
    "REFERENCES states(id) ON DELETE CASCADE)\"\"\")\n",
    "cursor.execute(create_cities_table)"
   ]
  },
  {
   "cell_type": "markdown",
   "id": "91b28412",
   "metadata": {},
   "source": [
    "<h2>Inserting values from python object to Postgres</h2>"
   ]
  },
  {
   "cell_type": "code",
   "execution_count": 142,
   "id": "99daa083",
   "metadata": {},
   "outputs": [],
   "source": [
    "countries_insertion = (\"\"\"INSERT INTO countries(id,name,iso2,phone_code,capital,currency,currency_name,currency_symbol,region,native,timezones,latitude,longitude) \n",
    "                                        VALUES(%s,%s,%s,%s,%s,%s,%s,%s,%s,%s,%s,%s,%s)\"\"\")"
   ]
  },
  {
   "cell_type": "code",
   "execution_count": 145,
   "id": "79f3af98",
   "metadata": {},
   "outputs": [],
   "source": [
    "for i,row in countries_clean.iterrows():\n",
    "    cursor.execute(countries_insertion, list(row))\n",
    "#     print(row)"
   ]
  },
  {
   "cell_type": "code",
   "execution_count": 79,
   "id": "689efc0c",
   "metadata": {},
   "outputs": [],
   "source": [
    "states_insertion = (\"\"\"INSERT INTO states(id,name,country_id,country_code,country_name,state_code,latitude,longitude) \n",
    "                                        VALUES(%s,%s,%s,%s,%s,%s,%s,%s)\"\"\")"
   ]
  },
  {
   "cell_type": "code",
   "execution_count": 80,
   "id": "d0c3a59e",
   "metadata": {},
   "outputs": [],
   "source": [
    "for i,row in states_clean.iterrows():\n",
    "    cursor.execute(states_insertion, list(row))\n",
    "#     print(row)"
   ]
  },
  {
   "cell_type": "code",
   "execution_count": 99,
   "id": "c612a2be",
   "metadata": {},
   "outputs": [],
   "source": [
    "cities_insertion = (\"\"\"INSERT INTO cities(id,name,country_id,state_id) \n",
    "                                        VALUES(%s,%s,%s,%s)\"\"\")"
   ]
  },
  {
   "cell_type": "code",
   "execution_count": 146,
   "id": "2e30db34",
   "metadata": {},
   "outputs": [],
   "source": [
    "for i,row in cities_clean.iterrows():\n",
    "    cursor.execute(cities_insertion,list(row))\n",
    "#     print(row)"
   ]
  },
  {
   "cell_type": "markdown",
   "id": "ded0f425",
   "metadata": {},
   "source": [
    "<h1>Done!! </h1>\n",
    "<h2>In this project, we capture the data from CSV file, transform or clean it with panda library and finally dump that data into Postgrey database</h2>"
   ]
  }
 ],
 "metadata": {
  "kernelspec": {
   "display_name": "Python 3 (ipykernel)",
   "language": "python",
   "name": "python3"
  },
  "language_info": {
   "codemirror_mode": {
    "name": "ipython",
    "version": 3
   },
   "file_extension": ".py",
   "mimetype": "text/x-python",
   "name": "python",
   "nbconvert_exporter": "python",
   "pygments_lexer": "ipython3",
   "version": "3.8.10"
  }
 },
 "nbformat": 4,
 "nbformat_minor": 5
}
